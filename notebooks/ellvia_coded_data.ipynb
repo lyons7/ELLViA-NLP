{
 "cells": [
  {
   "cell_type": "code",
   "execution_count": 1,
   "metadata": {},
   "outputs": [],
   "source": [
    "import pandas as pd\n",
    "import os\n",
    "import numpy as np\n",
    "\n",
    "# See more text in the output:\n",
    "pd.set_option('display.max_colwidth', None)\n",
    "pd.set_option(\"display.max_columns\", None)\n",
    "pd.set_option('display.max_rows', None)\n",
    "\n",
    "data_path = os.path.normpath(os.getcwd() + os.sep + os.pardir) + '/data/'\n",
    "\n",
    "import vienna_paper.prep_data\n",
    "import vienna_paper.tidylopy\n",
    "\n",
    "%load_ext autoreload\n",
    "%autoreload 2"
   ]
  },
  {
   "cell_type": "markdown",
   "metadata": {},
   "source": [
    "### Load in data!\n",
    "Grab data that was manually labeled to tell us whether or not we had an overlap of survey area and Instagram posts..."
   ]
  },
  {
   "cell_type": "code",
   "execution_count": 2,
   "metadata": {},
   "outputs": [],
   "source": [
    "# Import and concatenate data:\n",
    "innere = pd.read_excel(data_path + 'raw/barbara_coded_data/1 Innere Stadt_bks edited_new_Jan 7.xlsx')[['part of survey area?']].rename(columns={'part of survey area?': 'Part of survey area?'})\n",
    "innere['district_number'] = '1'\n",
    "innere['district_name'] = 'Innere Stadt'\n",
    "\n",
    "josef = pd.read_excel(data_path + 'raw/barbara_coded_data/8 Josefstadt_bks edited_new Jan 7.xlsx')[['part of survey area?']].rename(columns={'part of survey area?': 'Part of survey area?'})\n",
    "josef['district_number'] = '8'\n",
    "josef['district_name'] = 'Josefstadt'\n",
    "\n",
    "ottakring = pd.read_excel(data_path + 'raw/barbara_coded_data/16 Ottakring_ss done_Jan 18.xlsx')[['Pic shows part of survey area?']].rename(columns={'Pic shows part of survey area?': 'Part of survey area?'})\n",
    "ottakring['district_number'] = '16'\n",
    "ottakring['district_name'] = 'Ottakring'\n",
    "\n",
    "wahring = pd.read_excel(data_path + 'raw/barbara_coded_data/18 Währing_bks edited.xlsx')[['Pic shows part of survey area?']].rename(columns={'Pic shows part of survey area?': 'Part of survey area?'})\n",
    "wahring['district_number'] = '18'\n",
    "wahring['district_name'] = 'Wahring'\n",
    "\n",
    "dobling = pd.read_excel(data_path + 'raw/barbara_coded_data/19 Döbling_ss done_Jan 24.xlsx')[['Pic shows part of survey area?']].rename(columns={'Pic shows part of survey area?': 'Part of survey area?'})\n",
    "dobling['district_number'] = '19'\n",
    "dobling['district_name'] = 'Dobling'\n",
    "\n",
    "floridsdorf = pd.read_excel(data_path + 'raw/barbara_coded_data/21 Floridsdorf_ss done_Jan 29.xlsx')[['Pic shows part of survey area?']].rename(columns={'Pic shows part of survey area?': 'Part of survey area?'})\n",
    "floridsdorf['district_number'] = '21'\n",
    "floridsdorf['district_name'] = 'Floridsdorf'\n",
    "\n",
    "working_set = pd.concat([innere, josef, ottakring, wahring, dobling, floridsdorf])"
   ]
  },
  {
   "cell_type": "code",
   "execution_count": null,
   "metadata": {},
   "outputs": [],
   "source": [
    "# Load in Mission data to cross check?"
   ]
  },
  {
   "cell_type": "code",
   "execution_count": 3,
   "metadata": {},
   "outputs": [],
   "source": [
    "# working_set.groupby(['district_name', 'Part of survey area?']).count().reset_index().sort_values(['district_name', 'district_number'], ascending=[1, 0])\n",
    "working_set['in_survey_area'] = np.where(working_set['Part of survey area?'] == 'Y', 'Y', 'N')\n",
    "in_survey_counts = working_set.groupby(['district_name', 'in_survey_area']).count()['district_number'].reset_index().sort_values(['district_name', 'in_survey_area', 'district_number'], ascending=[1, 0, 0])\n"
   ]
  },
  {
   "cell_type": "code",
   "execution_count": null,
   "metadata": {},
   "outputs": [],
   "source": [
    "4/"
   ]
  },
  {
   "cell_type": "code",
   "execution_count": 9,
   "metadata": {},
   "outputs": [
    {
     "data": {
      "text/plain": [
       "0.9148936170212766"
      ]
     },
     "execution_count": 9,
     "metadata": {},
     "output_type": "execute_result"
    }
   ],
   "source": [
    "in_survey_counts[in_survey_counts['in_survey_area'] == 'Y']\n",
    "43 / 47"
   ]
  },
  {
   "cell_type": "code",
   "execution_count": 12,
   "metadata": {},
   "outputs": [
    {
     "data": {
      "text/plain": [
       "0.09302325581395349"
      ]
     },
     "execution_count": 12,
     "metadata": {},
     "output_type": "execute_result"
    }
   ],
   "source": [
    "4/43"
   ]
  },
  {
   "cell_type": "code",
   "execution_count": 4,
   "metadata": {},
   "outputs": [
    {
     "data": {
      "text/html": [
       "<div>\n",
       "<style scoped>\n",
       "    .dataframe tbody tr th:only-of-type {\n",
       "        vertical-align: middle;\n",
       "    }\n",
       "\n",
       "    .dataframe tbody tr th {\n",
       "        vertical-align: top;\n",
       "    }\n",
       "\n",
       "    .dataframe thead th {\n",
       "        text-align: right;\n",
       "    }\n",
       "</style>\n",
       "<table border=\"1\" class=\"dataframe\">\n",
       "  <thead>\n",
       "    <tr style=\"text-align: right;\">\n",
       "      <th></th>\n",
       "      <th>district_name</th>\n",
       "      <th>in_survey_area</th>\n",
       "      <th>district_number</th>\n",
       "    </tr>\n",
       "  </thead>\n",
       "  <tbody>\n",
       "    <tr>\n",
       "      <th>0</th>\n",
       "      <td>Dobling</td>\n",
       "      <td>N</td>\n",
       "      <td>533</td>\n",
       "    </tr>\n",
       "    <tr>\n",
       "      <th>2</th>\n",
       "      <td>Floridsdorf</td>\n",
       "      <td>Y</td>\n",
       "      <td>1</td>\n",
       "    </tr>\n",
       "    <tr>\n",
       "      <th>1</th>\n",
       "      <td>Floridsdorf</td>\n",
       "      <td>N</td>\n",
       "      <td>526</td>\n",
       "    </tr>\n",
       "    <tr>\n",
       "      <th>4</th>\n",
       "      <td>Innere Stadt</td>\n",
       "      <td>Y</td>\n",
       "      <td>43</td>\n",
       "    </tr>\n",
       "    <tr>\n",
       "      <th>3</th>\n",
       "      <td>Innere Stadt</td>\n",
       "      <td>N</td>\n",
       "      <td>10590</td>\n",
       "    </tr>\n",
       "  </tbody>\n",
       "</table>\n",
       "</div>"
      ],
      "text/plain": [
       "  district_name in_survey_area  district_number\n",
       "0       Dobling              N              533\n",
       "2   Floridsdorf              Y                1\n",
       "1   Floridsdorf              N              526\n",
       "4  Innere Stadt              Y               43\n",
       "3  Innere Stadt              N            10590"
      ]
     },
     "execution_count": 4,
     "metadata": {},
     "output_type": "execute_result"
    }
   ],
   "source": [
    "in_survey_counts.head()"
   ]
  },
  {
   "cell_type": "code",
   "execution_count": 32,
   "metadata": {},
   "outputs": [
    {
     "data": {
      "text/plain": [
       "47"
      ]
     },
     "execution_count": 32,
     "metadata": {},
     "output_type": "execute_result"
    }
   ],
   "source": [
    "in_survey_counts[in_survey_counts['in_survey_area'] == 'Y']['district_number'].sum()"
   ]
  },
  {
   "cell_type": "code",
   "execution_count": 33,
   "metadata": {},
   "outputs": [
    {
     "data": {
      "text/plain": [
       "12375"
      ]
     },
     "execution_count": 33,
     "metadata": {},
     "output_type": "execute_result"
    }
   ],
   "source": [
    "in_survey_counts['district_number'].sum()"
   ]
  },
  {
   "cell_type": "code",
   "execution_count": 31,
   "metadata": {},
   "outputs": [
    {
     "data": {
      "text/plain": [
       "0.003797979797979798"
      ]
     },
     "execution_count": 31,
     "metadata": {},
     "output_type": "execute_result"
    }
   ],
   "source": [
    "(in_survey_counts[in_survey_counts['in_survey_area'] == 'Y']['district_number'].sum())/in_survey_counts['district_number'].sum()"
   ]
  },
  {
   "cell_type": "code",
   "execution_count": 10,
   "metadata": {},
   "outputs": [
    {
     "data": {
      "text/plain": [
       "Index(['Original order', 'Random order', 'user_id', 'status_id', 'source',\n",
       "       'created_at', 'screen_name', 'text', 'Pic shows part of Vienna?',\n",
       "       'Pic shows part of District?',\n",
       "       ...\n",
       "       'verified', 'profile_url', 'profile_expanded_url', 'account_lang',\n",
       "       'profile_banner_url', 'profile_background_url', 'profile_image_url',\n",
       "       'lat', 'lng', 'in_district'],\n",
       "      dtype='object', length=101)"
      ]
     },
     "execution_count": 10,
     "metadata": {},
     "output_type": "execute_result"
    }
   ],
   "source": [
    "pd.read_excel(data_path +'raw/barbara_coded_data/21 Floridsdorf_ss done_Jan 29.xlsx').columns\n"
   ]
  },
  {
   "cell_type": "code",
   "execution_count": 9,
   "metadata": {},
   "outputs": [
    {
     "data": {
      "text/plain": [
       "Index(['Original number', 'user_id', 'status_id', 'source', 'created_at',\n",
       "       'screen_name', 'text', 'Pic shows part of Vienna?',\n",
       "       'Pic shows part of District?', 'Pic shows part of survey area?',\n",
       "       'notes - picture shows…', 'Translation (if applicable)', 'urls_url',\n",
       "       'urls_t.co', 'urls_expanded_url', 'Copy of Geocoordinates', 'media_url',\n",
       "       'media_t.co', 'media_expanded_url', 'media_type', 'ext_media_url',\n",
       "       'ext_media_t.co', 'ext_media_expanded_url', 'ext_media_type',\n",
       "       'display_text_width', 'reply_to_status_id', 'reply_to_user_id',\n",
       "       'reply_to_screen_name', 'is_quote', 'is_retweet', 'favorite_count',\n",
       "       'retweet_count', 'quote_count', 'reply_count', 'hashtags', 'symbols',\n",
       "       'mentions_user_id', 'mentions_screen_name', 'lang', 'quoted_status_id',\n",
       "       'quoted_text', 'quoted_created_at', 'quoted_source',\n",
       "       'quoted_favorite_count', 'quoted_retweet_count', 'quoted_user_id',\n",
       "       'quoted_screen_name', 'quoted_name', 'quoted_followers_count',\n",
       "       'quoted_friends_count', 'quoted_statuses_count', 'quoted_location',\n",
       "       'quoted_description', 'quoted_verified', 'retweet_status_id',\n",
       "       'retweet_text', 'retweet_created_at', 'retweet_source',\n",
       "       'retweet_favorite_count', 'retweet_retweet_count', 'retweet_user_id',\n",
       "       'retweet_screen_name', 'retweet_name', 'retweet_followers_count',\n",
       "       'retweet_friends_count', 'retweet_statuses_count', 'retweet_location',\n",
       "       'retweet_description', 'retweet_verified', 'place_url', 'place_name',\n",
       "       'place_full_name', 'place_type', 'country', 'country_code',\n",
       "       'geo_coords', 'coords_coords', 'bbox_coords', 'status_url', 'name',\n",
       "       'location', 'description', 'url', 'protected', 'followers_count',\n",
       "       'friends_count', 'listed_count', 'statuses_count', 'favourites_count',\n",
       "       'account_created_at', 'verified', 'profile_url', 'profile_expanded_url',\n",
       "       'account_lang', 'profile_banner_url', 'profile_background_url',\n",
       "       'profile_image_url', 'lat', 'lng', 'in_district'],\n",
       "      dtype='object')"
      ]
     },
     "execution_count": 9,
     "metadata": {},
     "output_type": "execute_result"
    }
   ],
   "source": [
    "# os.listdir(data_path +'raw/barbara_coded_data') \n",
    "pd.read_excel(data_path +'raw/barbara_coded_data/18 Währing_bks edited.xlsx').columns\n"
   ]
  },
  {
   "cell_type": "code",
   "execution_count": null,
   "metadata": {},
   "outputs": [],
   "source": []
  }
 ],
 "metadata": {
  "interpreter": {
   "hash": "243406a3ec6326d2bb59a687e08af558c0c7ba6bb2ce19a9473d8adccdb8f80a"
  },
  "kernelspec": {
   "display_name": "Python 3.9.5 64-bit ('eos_sandbox': conda)",
   "language": "python",
   "name": "python3"
  },
  "language_info": {
   "codemirror_mode": {
    "name": "ipython",
    "version": 3
   },
   "file_extension": ".py",
   "mimetype": "text/x-python",
   "name": "python",
   "nbconvert_exporter": "python",
   "pygments_lexer": "ipython3",
   "version": "3.9.5"
  },
  "orig_nbformat": 4
 },
 "nbformat": 4,
 "nbformat_minor": 2
}
